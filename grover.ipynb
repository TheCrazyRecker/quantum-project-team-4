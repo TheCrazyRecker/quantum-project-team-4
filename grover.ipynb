{
 "cells": [
  {
   "cell_type": "code",
   "id": "initial_id",
   "metadata": {
    "collapsed": true,
    "ExecuteTime": {
     "end_time": "2025-01-26T17:56:32.246772Z",
     "start_time": "2025-01-26T17:56:32.243813Z"
    }
   },
   "source": [
    "import numpy as np\n",
    "import rustworkx as rx\n",
    "import matplotlib.pyplot as plt\n",
    "\n",
    "from qiskit.providers import BackendV2, Options\n",
    "from qiskit.transpiler import Target, InstructionProperties\n",
    "from qiskit.circuit.library import XGate, SXGate, RZGate, CZGate, ECRGate, CXGate, CPhaseGate, HGate, CRXGate, CRZGate\n",
    "from qiskit.circuit import Measure, Delay, Parameter, Reset\n",
    "from qiskit import QuantumCircuit, transpile\n",
    "from qiskit.visualization import plot_gate_map\n",
    "from qiskit.transpiler.preset_passmanagers import generate_preset_pass_manager\n",
    "from qiskit.primitives import BackendSamplerV2\n",
    "from qiskit.providers.basic_provider import BasicSimulator\n"
   ],
   "outputs": [],
   "execution_count": 16
  },
  {
   "metadata": {
    "ExecuteTime": {
     "end_time": "2025-01-26T17:57:03.246964Z",
     "start_time": "2025-01-26T17:57:03.238064Z"
    }
   },
   "cell_type": "code",
   "source": [
    "class FakeBackend(BackendV2):\n",
    "    \"\"\"Fake fully-connected backend.\"\"\"\n",
    "\n",
    "    def __init__(self, num_qubits=3, type=1):\n",
    "        # Create a fully-connected or nearest-neighbour graph using the rustworkx library, then instantiate a new target\n",
    "\n",
    "        if type == 1:\n",
    "            super().__init__(name=\"Fake fully-connected backend\")\n",
    "            self._graph = rx.generators.complete_graph(num_qubits)  # All-to-all\n",
    "            self._target = Target(\n",
    "            \"Fake fully-connected backend\", num_qubits=num_qubits\n",
    "        )\n",
    "        else:\n",
    "            super().__init__(name=\"Fake nearest-neighbour backend\")\n",
    "            self._graph = rx.generators.path_graph(num_qubits)     # Nearest-neighbour\n",
    "            self._target = Target(\n",
    "            \"Fake nearest-neighbour backend\", num_qubits=num_qubits\n",
    "        )\n",
    "\n",
    "        # Generate instruction properties for single qubit gates and a measurement, delay,\n",
    "        #  and reset operation to every qubit in the backend.\n",
    "        rng = np.random.default_rng(seed=12345678942)\n",
    "        rz_props = {}\n",
    "        x_props = {}\n",
    "        h_props = {}\n",
    "        #sx_props = {}\n",
    "        measure_props = {}\n",
    "        delay_props = {}\n",
    "\n",
    "        # Add 1q gates\n",
    "        for i in range(num_qubits):\n",
    "            qarg = (i,)\n",
    "            rz_props[qarg] = InstructionProperties(error=0.0, duration=0.0)\n",
    "            x_props[qarg] = InstructionProperties(\n",
    "                error=0.0, #rng.uniform(1e-6, 1e-4),\n",
    "                duration=rng.uniform(1e-8, 9e-7),\n",
    "            )\n",
    "            h_props[qarg] = InstructionProperties(\n",
    "                error=0.0, #rng.uniform(1e-6, 1e-4),\n",
    "                duration=rng.uniform(1e-8, 9e-7),\n",
    "            )\n",
    "            # sx_props[qarg] = InstructionProperties(\n",
    "            #     error=0.0, #rng.uniform(1e-6, 1e-4),\n",
    "            #     duration=rng.uniform(1e-8, 9e-7),\n",
    "            # )\n",
    "            measure_props[qarg] = InstructionProperties(\n",
    "                error=0.0, #rng.uniform(1e-3, 1e-1),\n",
    "                duration=rng.uniform(1e-8, 9e-7),\n",
    "            )\n",
    "            delay_props[qarg] = None\n",
    "        self._target.add_instruction(XGate(), x_props)\n",
    "        self._target.add_instruction(HGate(), h_props)\n",
    "        #self._target.add_instruction(SXGate(), sx_props)\n",
    "        self._target.add_instruction(RZGate(Parameter(\"theta\")), rz_props)\n",
    "        self._target.add_instruction(Measure(), measure_props)\n",
    "        self._target.add_instruction(Reset(), measure_props)\n",
    "\n",
    "        self._target.add_instruction(Delay(Parameter(\"t\")), delay_props)\n",
    "\n",
    "        # Add 2q gates\n",
    "\n",
    "        # CZ Gate\n",
    "        cz_props = {}\n",
    "        for root_edge in self._graph.edge_list():\n",
    "            edge1 = (root_edge[0], root_edge[1])\n",
    "            edge2 = (root_edge[1], root_edge[0])\n",
    "            cz_props[edge1] = InstructionProperties(\n",
    "                error=0.0, #rng.uniform(7e-4, 5e-3),\n",
    "                duration=rng.uniform(1e-8, 9e-7),\n",
    "            )\n",
    "            cz_props[edge2] = InstructionProperties(\n",
    "                error=0.0, #rng.uniform(7e-4, 5e-3),\n",
    "                duration=rng.uniform(1e-8, 9e-7),\n",
    "            )\n",
    "        #self._target.add_instruction(CZGate(), cz_props)\n",
    "\n",
    "\n",
    "        # CX Gate\n",
    "        cx_props = {}\n",
    "        for root_edge in self._graph.edge_list():\n",
    "            edge1 = (root_edge[0], root_edge[1])\n",
    "            edge2 = (root_edge[1], root_edge[0])\n",
    "            cx_props[edge1] = InstructionProperties(\n",
    "                error=0.0, #rng.uniform(7e-4, 5e-3),\n",
    "                duration=rng.uniform(1e-8, 9e-7),\n",
    "            )\n",
    "            cx_props[edge2] = InstructionProperties(\n",
    "                error=0.0, #rng.uniform(7e-4, 5e-3),\n",
    "                duration=rng.uniform(1e-8, 9e-7),\n",
    "            )\n",
    "        self._target.add_instruction(CXGate(), cx_props)\n",
    "\n",
    "        # CRX Gate\n",
    "        crx_props = {}\n",
    "        for root_edge in self._graph.edge_list():\n",
    "            edge1 = (root_edge[0], root_edge[1])\n",
    "            edge2 = (root_edge[1], root_edge[0])\n",
    "            crx_props[edge1] = InstructionProperties(\n",
    "                error=0.0, #rng.uniform(7e-4, 5e-3),\n",
    "                duration=rng.uniform(1e-8, 9e-7),\n",
    "            )\n",
    "            crx_props[edge2] = InstructionProperties(\n",
    "                error=0.0, #rng.uniform(7e-4, 5e-3),\n",
    "                duration=rng.uniform(1e-8, 9e-7),\n",
    "            )\n",
    "        #self._target.add_instruction(CRXGate(Parameter(\"theta\")), crx_props)\n",
    "\n",
    "        # CRZ Gate\n",
    "        crz_props = {}\n",
    "        for root_edge in self._graph.edge_list():\n",
    "            edge1 = (root_edge[0], root_edge[1])\n",
    "            edge2 = (root_edge[1], root_edge[0])\n",
    "            crz_props[edge1] = InstructionProperties(\n",
    "                error=0.0, #rng.uniform(7e-4, 5e-3),\n",
    "                duration=rng.uniform(1e-8, 9e-7),\n",
    "            )\n",
    "            crz_props[edge2] = InstructionProperties(\n",
    "                error=0.0, #rng.uniform(7e-4, 5e-3),\n",
    "                duration=rng.uniform(1e-8, 9e-7),\n",
    "            )\n",
    "        #self._target.add_instruction(CRZGate(Parameter(\"theta\")), crz_props)\n",
    "\n",
    "        # CP Gate\n",
    "        cp_props = {}\n",
    "        for root_edge in self._graph.edge_list():\n",
    "            edge1 = (root_edge[0], root_edge[1])\n",
    "            edge2 = (root_edge[1], root_edge[0])\n",
    "            cx_props[edge1] = InstructionProperties(\n",
    "                error=0.0, #rng.uniform(7e-4, 5e-3),\n",
    "                duration=rng.uniform(1e-8, 9e-7),\n",
    "            )\n",
    "            cx_props[edge2] = InstructionProperties(\n",
    "                error=0.0, #rng.uniform(7e-4, 5e-3),\n",
    "                duration=rng.uniform(1e-8, 9e-7),\n",
    "            )\n",
    "        self._target.add_instruction(CPhaseGate(Parameter(\"theta\")), cp_props)\n",
    "\n",
    "        self.sim = BasicSimulator()\n",
    "\n",
    "    @property\n",
    "    def target(self):\n",
    "        return self._target\n",
    "\n",
    "    @property\n",
    "    def max_circuits(self):\n",
    "        return None\n",
    "\n",
    "    @property\n",
    "    def graph(self):\n",
    "        return self._graph\n",
    "\n",
    "    @classmethod\n",
    "    def _default_options(cls):\n",
    "        return Options(shots=1024)\n",
    "\n",
    "    def run(self, circuit, **kwargs):\n",
    "        job = self.sim.run(circuit, **kwargs)\n",
    "        return job"
   ],
   "id": "1da767a3d5b9d7f0",
   "outputs": [],
   "execution_count": 17
  },
  {
   "metadata": {
    "ExecuteTime": {
     "end_time": "2025-01-26T17:57:03.261757Z",
     "start_time": "2025-01-26T17:57:03.249966Z"
    }
   },
   "cell_type": "code",
   "source": [
    "def ncz(qc: QuantumCircuit, n: int, rot: float, had: bool):\n",
    "    if n == 2:\n",
    "        if had:\n",
    "            qc.h(2)\n",
    "        qc.cp(rot, 1, 2)\n",
    "        qc.cx(0, 1)\n",
    "        qc.cx(1, 0)\n",
    "        qc.cp(-rot, 1, 2)\n",
    "        qc.cx(0, 1)\n",
    "        qc.cp(rot, 1, 2)\n",
    "        if had:\n",
    "            qc.h(2)\n",
    "    else:\n",
    "        if had:\n",
    "            qc.h(n)\n",
    "        qc.cp(rot, n-1, n)\n",
    "        ncz(qc, n - 1, np.pi / 2, True)\n",
    "        qc.cp(-rot, n-1, n)\n",
    "        ncz(qc, n - 1, np.pi / 2, True)\n",
    "        qc.swap(n-1, n)\n",
    "        ncz(qc, n - 1, rot / 2, False)\n",
    "        qc.swap(n-1, n)\n",
    "        if had:\n",
    "            qc.h(n)\n",
    "\n",
    "def set_element_qiskit(qc: QuantumCircuit, element: int, n: int):\n",
    "    binary_string =  bin(element).removeprefix('0b')\n",
    "    while len(binary_string) < n:\n",
    "        binary_string = '0' + binary_string\n",
    "    if '0' not in binary_string:\n",
    "        return\n",
    "    binary_string = reversed(binary_string)\n",
    "    for idx, binary in enumerate(binary_string):\n",
    "        if binary == str(0):\n",
    "            qc.x(idx)\n",
    "\n",
    "def grover(qc: QuantumCircuit, n: int, element: int):\n",
    "    if element >= np.pow(2, n):\n",
    "        print('Element does not fall into the range [0, 2^n - 1]')\n",
    "        return\n",
    "    qc.h(slice(0, n))\n",
    "\n",
    "    num_iterations = 1 # int(np.floor((np.pi / 4) * np.sqrt(np.pow(2, n))))\n",
    "\n",
    "    for _ in range(num_iterations):\n",
    "        set_element_qiskit(qc, element, n)\n",
    "        ncz(qc, n - 1, np.pi / 2, False)\n",
    "        qc.swap(0, 1)\n",
    "        set_element_qiskit(qc, element, n)\n",
    "        qc.h(slice(0, n))\n",
    "        qc.x(slice(0, n))\n",
    "        ncz(qc, n - 1, np.pi / 2, False)\n",
    "        qc.swap(0, 1)\n",
    "        qc.x(slice(0, n))\n",
    "        qc.h(slice(0, n))\n",
    "\n",
    "def grover_mcx(qc: QuantumCircuit, n: int, element: int):\n",
    "    if element >= np.pow(2, n):\n",
    "        print('Element does not fall into the range [0, 2^n - 1]')\n",
    "        return\n",
    "    qc.h(slice(0, n))\n",
    "\n",
    "    num_iterations = 1 # int(np.floor((np.pi / 4) * np.sqrt(np.pow(2, n))))\n",
    "\n",
    "    for _ in range(num_iterations):\n",
    "        set_element_qiskit(qc, element, n)\n",
    "        qc.h(n-1)\n",
    "        qc.mcx([x for x in range(n-1)],n-1)\n",
    "        qc.h(n-1)\n",
    "        set_element_qiskit(qc, element, n)\n",
    "        qc.h(slice(0, n))\n",
    "        qc.x(slice(0, n))\n",
    "        qc.h(n-1)\n",
    "        qc.mcx([x for x in range(n-1)],n-1)\n",
    "        qc.h(n-1)\n",
    "        qc.x(slice(0, n))\n",
    "        qc.h(slice(0, n))"
   ],
   "id": "72f743f3e4e1833a",
   "outputs": [],
   "execution_count": 18
  },
  {
   "metadata": {
    "ExecuteTime": {
     "end_time": "2025-01-26T17:57:34.682161Z",
     "start_time": "2025-01-26T17:57:34.670463Z"
    }
   },
   "cell_type": "code",
   "source": [
    "backend_fc = FakeBackend(20, 1)\n",
    "backend_nn = FakeBackend(20, 2)\n",
    "\n",
    "target_fc = backend_fc.target\n",
    "coupling_map_backend_fc = target_fc.build_coupling_map()\n",
    "target_nn = backend_nn.target\n",
    "coupling_map_backend_nn = target_nn.build_coupling_map()\n",
    "\n",
    "line_colors_fc = [\"#adaaab\" for edge in coupling_map_backend_fc.get_edges()]\n",
    "line_colors_nn = [\"#adaaab\" for edge in coupling_map_backend_nn.get_edges()]"
   ],
   "id": "56dcfbb641185741",
   "outputs": [],
   "execution_count": 19
  },
  {
   "metadata": {
    "ExecuteTime": {
     "end_time": "2025-01-26T17:58:06.145896Z",
     "start_time": "2025-01-26T17:58:05.890359Z"
    }
   },
   "cell_type": "code",
   "source": [
    "print(backend_fc.name)\n",
    "print(backend_fc.operation_names)\n",
    "plot_gate_map(\n",
    "    backend_fc,\n",
    "    line_color=line_colors_fc,\n",
    ")\n",
    "print(backend_nn.name)\n",
    "print(backend_nn.operation_names)\n",
    "plot_gate_map(\n",
    "    backend_nn,\n",
    "    line_color=line_colors_nn,\n",
    ")"
   ],
   "id": "8f8646104d78ede4",
   "outputs": [
    {
     "name": "stdout",
     "output_type": "stream",
     "text": [
      "Fake fully-connected backend\n",
      "['x', 'h', 'rz', 'measure', 'reset', 'delay', 'cx', 'cp']\n",
      "Fake nearest-neighbour backend\n",
      "['x', 'h', 'rz', 'measure', 'reset', 'delay', 'cx', 'cp']\n"
     ]
    },
    {
     "data": {
      "text/plain": [
       "<Figure size 875.15x742.9 with 1 Axes>"
      ],
      "image/png": "[encoded data removed]"
     },
     "execution_count": 20,
     "metadata": {},
     "output_type": "execute_result"
    }
   ],
   "execution_count": 20
  },
  {
   "metadata": {
    "ExecuteTime": {
     "end_time": "2025-01-26T17:59:09.146897Z",
     "start_time": "2025-01-26T17:59:09.142752Z"
    }
   },
   "cell_type": "code",
   "source": [
    "num_qubits = 5\n",
    "qc1 = QuantumCircuit(num_qubits)\n",
    "grover(qc1, num_qubits, 1)\n",
    "qc1.measure_all()\n",
    "\n",
    "print(qc1.count_ops())\n",
    "#qc1.draw(output='mpl')"
   ],
   "id": "cf7ff1c4a8ab2877",
   "outputs": [
    {
     "name": "stdout",
     "output_type": "stream",
     "text": [
      "OrderedDict({'cp': 70, 'cx': 54, 'h': 47, 'x': 18, 'swap': 18, 'measure': 5, 'barrier': 1})\n"
     ]
    }
   ],
   "execution_count": 21
  },
  {
   "metadata": {
    "ExecuteTime": {
     "end_time": "2025-01-26T17:59:24.758006Z",
     "start_time": "2025-01-26T17:59:24.744221Z"
    }
   },
   "cell_type": "code",
   "source": [
    "pm1 = generate_preset_pass_manager(optimization_level=1, backend=backend_nn)\n",
    "transpiled_qc1 = pm1.run(qc1)\n",
    "print(transpiled_qc1.count_ops())\n",
    "\n",
    "#transpiled_qc1.draw(\"mpl\", idle_wires=False)"
   ],
   "id": "ca2b03a7bbe419e",
   "outputs": [
    {
     "name": "stdout",
     "output_type": "stream",
     "text": [
      "OrderedDict({'cx': 108, 'cp': 70, 'h': 47, 'x': 18, 'measure': 5, 'barrier': 1})\n"
     ]
    }
   ],
   "execution_count": 22
  },
  {
   "metadata": {
    "ExecuteTime": {
     "end_time": "2025-01-26T17:59:56.635144Z",
     "start_time": "2025-01-26T17:59:56.631789Z"
    }
   },
   "cell_type": "code",
   "source": [
    "num_qubits = 7\n",
    "qc2 = QuantumCircuit(num_qubits)\n",
    "grover_mcx(qc2, num_qubits, 1)\n",
    "qc2.measure_all()\n",
    "\n",
    "print(qc2.count_ops())\n",
    "#qc2.draw(output='mpl')"
   ],
   "id": "c34d42d6d53d0c96",
   "outputs": [
    {
     "name": "stdout",
     "output_type": "stream",
     "text": [
      "OrderedDict({'x': 26, 'h': 25, 'measure': 7, 'mcx': 2, 'barrier': 1})\n"
     ]
    }
   ],
   "execution_count": 23
  },
  {
   "metadata": {
    "ExecuteTime": {
     "end_time": "2025-01-26T18:00:28.459997Z",
     "start_time": "2025-01-26T18:00:28.292540Z"
    }
   },
   "cell_type": "code",
   "source": [
    "pm2 = generate_preset_pass_manager(optimization_level=3, backend=backend_fc) # IBM transpiler on fully-connected backend\n",
    "transpiled_qc2 = pm2.run(qc2)\n",
    "print(transpiled_qc2.count_ops())\n",
    "\n",
    "#transpiled_qc2.draw(\"mpl\", idle_wires=False)"
   ],
   "id": "aa06af6bea8a96ff",
   "outputs": [
    {
     "name": "stdout",
     "output_type": "stream",
     "text": [
      "OrderedDict({'rz': 372, 'cx': 278, 'h': 96, 'x': 21, 'measure': 7, 'barrier': 1})\n"
     ]
    }
   ],
   "execution_count": 24
  },
  {
   "metadata": {
    "ExecuteTime": {
     "end_time": "2025-01-26T18:01:33.510492Z",
     "start_time": "2025-01-26T18:01:33.122170Z"
    }
   },
   "cell_type": "code",
   "source": [
    "pm3 = generate_preset_pass_manager(optimization_level=3, backend=backend_nn) # IBM transpiler on nearest-neighbour backend\n",
    "transpiled_qc3 = pm3.run(qc2)\n",
    "print(transpiled_qc3.count_ops())\n",
    "\n",
    "#transpiled_qc2.draw(\"mpl\", idle_wires=False)"
   ],
   "id": "78b6e2cefdb60ab8",
   "outputs": [
    {
     "name": "stdout",
     "output_type": "stream",
     "text": [
      "OrderedDict({'rz': 2224, 'cx': 811, 'h': 668, 'x': 12, 'measure': 7, 'barrier': 1})\n"
     ]
    }
   ],
   "execution_count": 25
  },
  {
   "metadata": {
    "ExecuteTime": {
     "end_time": "2025-01-26T18:01:33.516634Z",
     "start_time": "2025-01-26T18:01:33.514494Z"
    }
   },
   "cell_type": "code",
   "source": "sampler = BackendSamplerV2(backend=backend_nn)",
   "id": "b135955348a219e2",
   "outputs": [],
   "execution_count": 26
  },
  {
   "metadata": {
    "ExecuteTime": {
     "end_time": "2025-01-26T18:02:41.169065Z",
     "start_time": "2025-01-26T18:02:05.728825Z"
    }
   },
   "cell_type": "code",
   "source": [
    "job = sampler.run([(transpiled_qc3)])\n",
    "print(f\">>> Job ID: {job.job_id()}\")\n",
    "print(f\">>> Job Status: {job.status()}\")\n",
    "result = job.result()\n",
    "\n",
    "# Get results for the first (and only) PUB\n",
    "pub_result = result[0]\n",
    "counts = pub_result.data.meas.get_counts()\n",
    "plt.bar(range(len(counts)), list(counts.values()))\n",
    "plt.xticks(range(len(counts)), list(counts.keys()))\n",
    "plt.show()"
   ],
   "id": "8b16943bda89d664",
   "outputs": [
    {
     "name": "stdout",
     "output_type": "stream",
     "text": [
      ">>> Job ID: 76f20f53-97c9-49f5-80f0-82b176a3ea2d\n",
      ">>> Job Status: JobStatus.RUNNING\n"
     ]
    },
    {
     "data": {
      "text/plain": [
       "<Figure size 640x480 with 1 Axes>"
      ],
      "image/png": "[encoded data removed]"
     },
     "metadata": {},
     "output_type": "display_data"
    }
   ],
   "execution_count": 27
  },
  {
   "metadata": {
    "ExecuteTime": {
     "end_time": "2025-01-26T18:03:18.777310Z",
     "start_time": "2025-01-26T18:03:12.668726Z"
    }
   },
   "cell_type": "code",
   "source": [
    "gates_nn_our = []\n",
    "gates_nn_our_2q = []\n",
    "gates_nn = []\n",
    "gates_nn_2q = []\n",
    "gates_fc = []\n",
    "gates_fc_2q = []\n",
    "for num_qubits in range(3, 11):\n",
    "    # Nearest-neighbor our transpiler\n",
    "    qc_nn_our = QuantumCircuit(num_qubits)\n",
    "    grover(qc_nn_our, num_qubits, 1)\n",
    "    qc_nn_our.measure_all()\n",
    "\n",
    "    pm_nn_our = generate_preset_pass_manager(optimization_level=1, backend=backend_nn)\n",
    "    transpiled_qc_nn_our = pm_nn_our.run(qc_nn_our)\n",
    "    count_ops_nn_our = transpiled_qc_nn_our.count_ops()\n",
    "    gates_nn_our.append(sum(count_ops_nn_our.values()))\n",
    "    gates_nn_our_2q.append(count_ops_nn_our['cx'])\n",
    "\n",
    "    # Nearest-neighbor ibm transpiler\n",
    "    qc_nn = QuantumCircuit(num_qubits)\n",
    "    grover_mcx(qc_nn, num_qubits, 1)\n",
    "    qc_nn.measure_all()\n",
    "\n",
    "    pm_nn = generate_preset_pass_manager(optimization_level=3, backend=backend_nn)\n",
    "    transpiled_qc_nn = pm_nn.run(qc_nn)\n",
    "    count_ops_nn = transpiled_qc_nn.count_ops()\n",
    "    gates_nn.append(sum(count_ops_nn.values()))\n",
    "    gates_nn_2q.append(count_ops_nn['cx'])\n",
    "\n",
    "    # Fully-connected\n",
    "    qc_fc = QuantumCircuit(num_qubits)\n",
    "    grover_mcx(qc_fc, num_qubits, 1)\n",
    "    qc_fc.measure_all()\n",
    "\n",
    "    pm_fc = generate_preset_pass_manager(optimization_level=3, backend=backend_fc)\n",
    "    transpiled_qc_fc = pm_fc.run(qc_fc)\n",
    "    count_ops_fc = transpiled_qc_fc.count_ops()\n",
    "    gates_fc.append(sum(count_ops_fc.values()))\n",
    "    gates_fc_2q.append(count_ops_fc['cx'])"
   ],
   "id": "51354bb3e17b5cf",
   "outputs": [],
   "execution_count": 28
  },
  {
   "metadata": {
    "ExecuteTime": {
     "end_time": "2025-01-26T18:03:51.253872Z",
     "start_time": "2025-01-26T18:03:51.251245Z"
    }
   },
   "cell_type": "code",
   "source": [
    "print(gates_nn_our)\n",
    "print(gates_nn_our_2q)\n",
    "print(gates_nn)\n",
    "print(gates_nn_2q)\n",
    "print(gates_fc)\n",
    "print(gates_fc_2q)"
   ],
   "id": "46df7f05e4b2d846",
   "outputs": [
    {
     "name": "stdout",
     "output_type": "stream",
     "text": [
      "[41, 97, 249, 689, 1993, 5889, 17561, 52561]\n",
      "[12, 36, 108, 324, 972, 2916, 8748, 26244]\n",
      "[106, 424, 707, 2429, 3768, 5545, 8727, 14143]\n",
      "[19, 55, 187, 440, 806, 1339, 1818, 2330]\n",
      "[49, 89, 213, 528, 775, 1095, 1625, 2235]\n",
      "[12, 28, 72, 166, 278, 440, 648, 888]\n"
     ]
    }
   ],
   "execution_count": 29
  },
  {
   "metadata": {
    "ExecuteTime": {
     "end_time": "2025-01-26T18:04:23.364809Z",
     "start_time": "2025-01-26T18:04:23.286787Z"
    }
   },
   "cell_type": "code",
   "source": [
    "fig, ax = plt.subplots()\n",
    "x = [x for x in range(3, 11)]\n",
    "ax.plot(x, gates_nn_our, '.-b', label=\"NN our\")\n",
    "ax.plot(x, gates_nn_our_2q, '.--b', label=\"NN our - 2Q\")\n",
    "ax.plot(x, gates_nn, '.-r', label=\"NN ibm\")\n",
    "ax.plot(x, gates_nn_2q, '.--r', label=\"NN ibm - 2Q\")\n",
    "ax.plot(x, gates_fc, '.-g', label=\"FC\")\n",
    "ax.plot(x, gates_fc_2q, '.--g', label=\"FC - 2Q\")\n",
    "ax.legend()\n",
    "plt.xlabel(\"Number of qubits\")\n",
    "plt.xticks(x)\n",
    "plt.ylabel(\"Gate counts\")\n",
    "plt.show()"
   ],
   "id": "f4dabe6c85e7280a",
   "outputs": [
    {
     "data": {
      "text/plain": [
       "<Figure size 640x480 with 1 Axes>"
      ],
      "image/png": "[encoded data removed]"
     },
     "metadata": {},
     "output_type": "display_data"
    }
   ],
   "execution_count": 30
  }
 ],
 "metadata": {
  "kernelspec": {
   "display_name": "Python 3",
   "language": "python",
   "name": "python3"
  },
  "language_info": {
   "codemirror_mode": {
    "name": "ipython",
    "version": 2
   },
   "file_extension": ".py",
   "mimetype": "text/x-python",
   "name": "python",
   "nbconvert_exporter": "python",
   "pygments_lexer": "ipython2",
   "version": "2.7.6"
  }
 },
 "nbformat": 4,
 "nbformat_minor": 5
}
