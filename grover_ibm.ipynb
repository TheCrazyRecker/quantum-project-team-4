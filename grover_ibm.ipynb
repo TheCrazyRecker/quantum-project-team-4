{
 "cells": [
  {
   "cell_type": "code",
   "execution_count": 128,
   "id": "initial_id",
   "metadata": {
    "collapsed": true,
    "ExecuteTime": {
     "end_time": "2025-01-21T19:35:12.291045600Z",
     "start_time": "2025-01-21T19:35:12.273389500Z"
    }
   },
   "outputs": [],
   "source": [
    "from qiskit_ibm_runtime import QiskitRuntimeService\n",
    "from qiskit import QuantumCircuit\n",
    "import math\n",
    "token = '6f64d5207b1dc2675b593b0ffdd2d4283feec2c386bdd84cd666b76a768ed2405c04e66f128eca830e4642ca8b42b69a7a959e180bfc58ba5cdc6a386c647283' #Removed for obvious reasons\n",
    "QiskitRuntimeService.save_account(\n",
    "  token=token,\n",
    "  channel=\"ibm_quantum\",\n",
    "    overwrite=True\n",
    ")"
   ]
  },
  {
   "cell_type": "code",
   "execution_count": 129,
   "outputs": [
    {
     "data": {
      "text/plain": "        ┌───┐                                 ┌───┐                        »\n   q_0: ┤ H ├──────────────────────────────■──┤ X ├────────────■───────────»\n        ├───┤┌───┐                       ┌─┴─┐└─┬─┘          ┌─┴─┐         »\n   q_1: ┤ H ├┤ X ├───────────────■───────┤ X ├──■───■────────┤ X ├─■───────»\n        ├───┤├───┤         ┌───┐ │P(π/2) └───┘      │P(-π/2) └───┘ │P(π/2) »\n   q_2: ┤ H ├┤ X ├─■───────┤ H ├─■──────────────────■──────────────■───────»\n        ├───┤├───┤ │P(π/2) └───┘                                           »\n   q_3: ┤ H ├┤ X ├─■───────────────────────────────────────────────────────»\n        └───┘└───┘                                                         »\nmeas: 4/═══════════════════════════════════════════════════════════════════»\n                                                                           »\n«                                          ┌───┐                             »\n«   q_0: ───────────────────────────────■──┤ X ├────────────■────────────────»\n«                                     ┌─┴─┐└─┬─┘          ┌─┴─┐              »\n«   q_1: ─────────────────────■───────┤ X ├──■───■────────┤ X ├─■────────────»\n«        ┌───┐          ┌───┐ │P(π/2) └───┘      │P(-π/2) └───┘ │P(π/2) ┌───┐»\n«   q_2: ┤ H ├─■────────┤ H ├─■──────────────────■──────────────■───────┤ H ├»\n«        └───┘ │P(-π/2) └───┘                                           └───┘»\n«   q_3: ──────■─────────────────────────────────────────────────────────────»\n«                                                                            »\n«meas: 4/════════════════════════════════════════════════════════════════════»\n«                                                                            »\n«                         ┌───┐                           ┌───┐┌───┐     »\n«   q_0: ──────────────■──┤ X ├────────────■────────────X─┤ H ├┤ X ├─────»\n«                    ┌─┴─┐└─┬─┘          ┌─┴─┐          │ ├───┤├───┤┌───┐»\n«   q_1: ────■───────┤ X ├──■───■────────┤ X ├─■────────X─┤ X ├┤ H ├┤ X ├»\n«            │P(π/4) └───┘      │P(-π/4) └───┘ │P(π/4)    ├───┤├───┤├───┤»\n«   q_2: ─X──■──────────────────■──────────────■────────X─┤ X ├┤ H ├┤ X ├»\n«         │                                             │ ├───┤├───┤├───┤»\n«   q_3: ─X─────────────────────────────────────────────X─┤ X ├┤ H ├┤ X ├»\n«                                                         └───┘└───┘└───┘»\n«meas: 4/════════════════════════════════════════════════════════════════»\n«                                                                        »\n«                                    ┌───┐                             »\n«   q_0: ─────────────────────────■──┤ X ├────────────■────────────────»\n«                               ┌─┴─┐└─┬─┘          ┌─┴─┐              »\n«   q_1: ───────────────■───────┤ X ├──■───■────────┤ X ├─■────────────»\n«                 ┌───┐ │P(π/2) └───┘      │P(-π/2) └───┘ │P(π/2) ┌───┐»\n«   q_2: ─■───────┤ H ├─■──────────────────■──────────────■───────┤ H ├»\n«         │P(π/2) └───┘                                           └───┘»\n«   q_3: ─■────────────────────────────────────────────────────────────»\n«                                                                      »\n«meas: 4/══════════════════════════════════════════════════════════════»\n«                                                                      »\n«                                     ┌───┐                                »\n«   q_0: ──────────────────────────■──┤ X ├────────────■───────────────────»\n«                                ┌─┴─┐└─┬─┘          ┌─┴─┐                 »\n«   q_1: ────────────────■───────┤ X ├──■───■────────┤ X ├─■───────────────»\n«                  ┌───┐ │P(π/2) └───┘      │P(-π/2) └───┘ │P(π/2) ┌───┐   »\n«   q_2: ─■────────┤ H ├─■──────────────────■──────────────■───────┤ H ├─X─»\n«         │P(-π/2) └───┘                                           └───┘ │ »\n«   q_3: ─■──────────────────────────────────────────────────────────────X─»\n«                                                                          »\n«meas: 4/══════════════════════════════════════════════════════════════════»\n«                                                                          »\n«                      ┌───┐                           ┌───┐┌───┐ ░ ┌─┐      »\n«   q_0: ───────────■──┤ X ├────────────■────────────X─┤ X ├┤ H ├─░─┤M├──────»\n«                 ┌─┴─┐└─┬─┘          ┌─┴─┐          │ ├───┤├───┤ ░ └╥┘┌─┐   »\n«   q_1: ─■───────┤ X ├──■───■────────┤ X ├─■────────X─┤ X ├┤ H ├─░──╫─┤M├───»\n«         │P(π/4) └───┘      │P(-π/4) └───┘ │P(π/4)    ├───┤├───┤ ░  ║ └╥┘┌─┐»\n«   q_2: ─■──────────────────■──────────────■────────X─┤ X ├┤ H ├─░──╫──╫─┤M├»\n«                                                    │ ├───┤├───┤ ░  ║  ║ └╥┘»\n«   q_3: ────────────────────────────────────────────X─┤ X ├┤ H ├─░──╫──╫──╫─»\n«                                                      └───┘└───┘ ░  ║  ║  ║ »\n«meas: 4/════════════════════════════════════════════════════════════╩══╩══╩═»\n«                                                                    0  1  2 »\n«           \n«   q_0: ───\n«           \n«   q_1: ───\n«           \n«   q_2: ───\n«        ┌─┐\n«   q_3: ┤M├\n«        └╥┘\n«meas: 4/═╩═\n«         3 ",
      "text/html": "<pre style=\"word-wrap: normal;white-space: pre;background: #fff0;line-height: 1.1;font-family: &quot;Courier New&quot;,Courier,monospace\">        ┌───┐                                 ┌───┐                        »\n   q_0: ┤ H ├──────────────────────────────■──┤ X ├────────────■───────────»\n        ├───┤┌───┐                       ┌─┴─┐└─┬─┘          ┌─┴─┐         »\n   q_1: ┤ H ├┤ X ├───────────────■───────┤ X ├──■───■────────┤ X ├─■───────»\n        ├───┤├───┤         ┌───┐ │P(π/2) └───┘      │P(-π/2) └───┘ │P(π/2) »\n   q_2: ┤ H ├┤ X ├─■───────┤ H ├─■──────────────────■──────────────■───────»\n        ├───┤├───┤ │P(π/2) └───┘                                           »\n   q_3: ┤ H ├┤ X ├─■───────────────────────────────────────────────────────»\n        └───┘└───┘                                                         »\nmeas: 4/═══════════════════════════════════════════════════════════════════»\n                                                                           »\n«                                          ┌───┐                             »\n«   q_0: ───────────────────────────────■──┤ X ├────────────■────────────────»\n«                                     ┌─┴─┐└─┬─┘          ┌─┴─┐              »\n«   q_1: ─────────────────────■───────┤ X ├──■───■────────┤ X ├─■────────────»\n«        ┌───┐          ┌───┐ │P(π/2) └───┘      │P(-π/2) └───┘ │P(π/2) ┌───┐»\n«   q_2: ┤ H ├─■────────┤ H ├─■──────────────────■──────────────■───────┤ H ├»\n«        └───┘ │P(-π/2) └───┘                                           └───┘»\n«   q_3: ──────■─────────────────────────────────────────────────────────────»\n«                                                                            »\n«meas: 4/════════════════════════════════════════════════════════════════════»\n«                                                                            »\n«                         ┌───┐                           ┌───┐┌───┐     »\n«   q_0: ──────────────■──┤ X ├────────────■────────────X─┤ H ├┤ X ├─────»\n«                    ┌─┴─┐└─┬─┘          ┌─┴─┐          │ ├───┤├───┤┌───┐»\n«   q_1: ────■───────┤ X ├──■───■────────┤ X ├─■────────X─┤ X ├┤ H ├┤ X ├»\n«            │P(π/4) └───┘      │P(-π/4) └───┘ │P(π/4)    ├───┤├───┤├───┤»\n«   q_2: ─X──■──────────────────■──────────────■────────X─┤ X ├┤ H ├┤ X ├»\n«         │                                             │ ├───┤├───┤├───┤»\n«   q_3: ─X─────────────────────────────────────────────X─┤ X ├┤ H ├┤ X ├»\n«                                                         └───┘└───┘└───┘»\n«meas: 4/════════════════════════════════════════════════════════════════»\n«                                                                        »\n«                                    ┌───┐                             »\n«   q_0: ─────────────────────────■──┤ X ├────────────■────────────────»\n«                               ┌─┴─┐└─┬─┘          ┌─┴─┐              »\n«   q_1: ───────────────■───────┤ X ├──■───■────────┤ X ├─■────────────»\n«                 ┌───┐ │P(π/2) └───┘      │P(-π/2) └───┘ │P(π/2) ┌───┐»\n«   q_2: ─■───────┤ H ├─■──────────────────■──────────────■───────┤ H ├»\n«         │P(π/2) └───┘                                           └───┘»\n«   q_3: ─■────────────────────────────────────────────────────────────»\n«                                                                      »\n«meas: 4/══════════════════════════════════════════════════════════════»\n«                                                                      »\n«                                     ┌───┐                                »\n«   q_0: ──────────────────────────■──┤ X ├────────────■───────────────────»\n«                                ┌─┴─┐└─┬─┘          ┌─┴─┐                 »\n«   q_1: ────────────────■───────┤ X ├──■───■────────┤ X ├─■───────────────»\n«                  ┌───┐ │P(π/2) └───┘      │P(-π/2) └───┘ │P(π/2) ┌───┐   »\n«   q_2: ─■────────┤ H ├─■──────────────────■──────────────■───────┤ H ├─X─»\n«         │P(-π/2) └───┘                                           └───┘ │ »\n«   q_3: ─■──────────────────────────────────────────────────────────────X─»\n«                                                                          »\n«meas: 4/══════════════════════════════════════════════════════════════════»\n«                                                                          »\n«                      ┌───┐                           ┌───┐┌───┐ ░ ┌─┐      »\n«   q_0: ───────────■──┤ X ├────────────■────────────X─┤ X ├┤ H ├─░─┤M├──────»\n«                 ┌─┴─┐└─┬─┘          ┌─┴─┐          │ ├───┤├───┤ ░ └╥┘┌─┐   »\n«   q_1: ─■───────┤ X ├──■───■────────┤ X ├─■────────X─┤ X ├┤ H ├─░──╫─┤M├───»\n«         │P(π/4) └───┘      │P(-π/4) └───┘ │P(π/4)    ├───┤├───┤ ░  ║ └╥┘┌─┐»\n«   q_2: ─■──────────────────■──────────────■────────X─┤ X ├┤ H ├─░──╫──╫─┤M├»\n«                                                    │ ├───┤├───┤ ░  ║  ║ └╥┘»\n«   q_3: ────────────────────────────────────────────X─┤ X ├┤ H ├─░──╫──╫──╫─»\n«                                                      └───┘└───┘ ░  ║  ║  ║ »\n«meas: 4/════════════════════════════════════════════════════════════╩══╩══╩═»\n«                                                                    0  1  2 »\n«           \n«   q_0: ───\n«           \n«   q_1: ───\n«           \n«   q_2: ───\n«        ┌─┐\n«   q_3: ┤M├\n«        └╥┘\n«meas: 4/═╩═\n«         3 </pre>"
     },
     "execution_count": 129,
     "metadata": {},
     "output_type": "execute_result"
    }
   ],
   "source": [
    "def ncz_qiskit(n: int, rot, had: bool, qc: QuantumCircuit):\n",
    "    if n == 2:\n",
    "        if had:\n",
    "            qc.h(2)\n",
    "        qc.cp(rot, 1, 2)\n",
    "        qc.cx(0, 1)\n",
    "        qc.cx(1, 0)\n",
    "        qc.cp(-rot, 1, 2)\n",
    "        qc.cx(0, 1)\n",
    "        qc.cp(rot, 1, 2)\n",
    "        if had:\n",
    "            qc.h(2)\n",
    "    else:\n",
    "        if had:\n",
    "            qc.h(n)\n",
    "        qc.cp(rot, n-1, n)\n",
    "        ncz_qiskit(n - 1, math.pi / 2, True, qc)\n",
    "        qc.cp(-rot, n-1, n)\n",
    "        ncz_qiskit(n - 1, math.pi / 2, True, qc)\n",
    "        qc.swap(n-1, n)\n",
    "        ncz_qiskit(n - 1, rot / 2, False, qc)\n",
    "        qc.swap(n-1, n)\n",
    "        if had:\n",
    "            qc.h(n)\n",
    "            \n",
    "def set_element_qiskit(element: int, n: int, qc: QuantumCircuit):\n",
    "    binary_string =  bin(element).removeprefix('0b')\n",
    "    while len(binary_string) < n:\n",
    "        binary_string = '0' + binary_string\n",
    "    if '0' not in binary_string:\n",
    "        return\n",
    "    binary_string = reversed(binary_string)\n",
    "    for idx, binary in enumerate(binary_string):\n",
    "        if binary == str(0):\n",
    "            qc.x(idx)\n",
    "    \n",
    "\n",
    "def grover_qiskit(n: int, element: int):\n",
    "    if element >= math.pow(2, n):\n",
    "        print('Element does not fall into the range [0, 2^n - 1]')\n",
    "        return\n",
    "    \n",
    "    qc = QuantumCircuit(n)\n",
    "    for i in range(n):\n",
    "        qc.h(i)\n",
    "        \n",
    "    # num_iterations = math.floor((math.pi / 4) * math.sqrt(math.pow(2, n)))\n",
    "    \n",
    "    # for _ in range(num_iterations):\n",
    "    set_element_qiskit(element, n, qc)\n",
    "    ncz_qiskit(n - 1, math.pi / 2, False, qc)\n",
    "    qc.swap(0, 1)\n",
    "    set_element_qiskit(element, n, qc)\n",
    "    for i in range(n):\n",
    "        qc.h(i)\n",
    "    for i in range(n):\n",
    "        qc.x(i)\n",
    "    ncz_qiskit(n - 1, math.pi / 2, False, qc)\n",
    "    qc.swap(0, 1)\n",
    "    for i in range(n):\n",
    "        qc.x(i)\n",
    "    for i in range(n):\n",
    "        qc.h(i)\n",
    "        \n",
    "    qc.measure_all()\n",
    "    \n",
    "    return qc\n",
    "\n",
    "qc = grover_qiskit(4, 1)\n",
    "qc.draw()"
   ],
   "metadata": {
    "collapsed": false,
    "ExecuteTime": {
     "end_time": "2025-01-21T19:35:14.025412500Z",
     "start_time": "2025-01-21T19:35:14.019149300Z"
    }
   },
   "id": "e9e1cd4a9f25e534"
  },
  {
   "cell_type": "code",
   "execution_count": 136,
   "outputs": [
    {
     "data": {
      "text/plain": "        ┌───┐               ┌───┐┌───┐                    ┌───┐┌───┐      ░ ┌─┐»\n   q_0: ┤ H ├────────────■──┤ H ├┤ X ├─────────────────■──┤ X ├┤ H ├──────░─┤M├»\n        ├───┤┌───┐       │  ├───┤├───┤┌───┐            │  ├───┤├───┤      ░ └╥┘»\n   q_1: ┤ H ├┤ X ├───────■──┤ X ├┤ H ├┤ X ├────────────■──┤ X ├┤ H ├──────░──╫─»\n        ├───┤├───┤       │  ├───┤├───┤├───┤            │  ├───┤├───┤      ░  ║ »\n   q_2: ┤ H ├┤ X ├───────■──┤ X ├┤ H ├┤ X ├────────────■──┤ X ├┤ H ├──────░──╫─»\n        ├───┤├───┤┌───┐┌─┴─┐├───┤├───┤├───┤┌───┐┌───┐┌─┴─┐├───┤├───┤┌───┐ ░  ║ »\n   q_3: ┤ H ├┤ X ├┤ H ├┤ X ├┤ H ├┤ X ├┤ H ├┤ X ├┤ H ├┤ X ├┤ H ├┤ X ├┤ H ├─░──╫─»\n        └───┘└───┘└───┘└───┘└───┘└───┘└───┘└───┘└───┘└───┘└───┘└───┘└───┘ ░  ║ »\nmeas: 4/═════════════════════════════════════════════════════════════════════╩═»\n                                                                             0 »\n«                 \n«   q_0: ─────────\n«        ┌─┐      \n«   q_1: ┤M├──────\n«        └╥┘┌─┐   \n«   q_2: ─╫─┤M├───\n«         ║ └╥┘┌─┐\n«   q_3: ─╫──╫─┤M├\n«         ║  ║ └╥┘\n«meas: 4/═╩══╩══╩═\n«         1  2  3 ",
      "text/html": "<pre style=\"word-wrap: normal;white-space: pre;background: #fff0;line-height: 1.1;font-family: &quot;Courier New&quot;,Courier,monospace\">        ┌───┐               ┌───┐┌───┐                    ┌───┐┌───┐      ░ ┌─┐»\n   q_0: ┤ H ├────────────■──┤ H ├┤ X ├─────────────────■──┤ X ├┤ H ├──────░─┤M├»\n        ├───┤┌───┐       │  ├───┤├───┤┌───┐            │  ├───┤├───┤      ░ └╥┘»\n   q_1: ┤ H ├┤ X ├───────■──┤ X ├┤ H ├┤ X ├────────────■──┤ X ├┤ H ├──────░──╫─»\n        ├───┤├───┤       │  ├───┤├───┤├───┤            │  ├───┤├───┤      ░  ║ »\n   q_2: ┤ H ├┤ X ├───────■──┤ X ├┤ H ├┤ X ├────────────■──┤ X ├┤ H ├──────░──╫─»\n        ├───┤├───┤┌───┐┌─┴─┐├───┤├───┤├───┤┌───┐┌───┐┌─┴─┐├───┤├───┤┌───┐ ░  ║ »\n   q_3: ┤ H ├┤ X ├┤ H ├┤ X ├┤ H ├┤ X ├┤ H ├┤ X ├┤ H ├┤ X ├┤ H ├┤ X ├┤ H ├─░──╫─»\n        └───┘└───┘└───┘└───┘└───┘└───┘└───┘└───┘└───┘└───┘└───┘└───┘└───┘ ░  ║ »\nmeas: 4/═════════════════════════════════════════════════════════════════════╩═»\n                                                                             0 »\n«                 \n«   q_0: ─────────\n«        ┌─┐      \n«   q_1: ┤M├──────\n«        └╥┘┌─┐   \n«   q_2: ─╫─┤M├───\n«         ║ └╥┘┌─┐\n«   q_3: ─╫──╫─┤M├\n«         ║  ║ └╥┘\n«meas: 4/═╩══╩══╩═\n«         1  2  3 </pre>"
     },
     "execution_count": 136,
     "metadata": {},
     "output_type": "execute_result"
    }
   ],
   "source": [
    "def grover(n: int, element: int):\n",
    "    if element >= math.pow(2, n):\n",
    "        print('Element does not fall into the range [0, 2^n - 1]')\n",
    "        return\n",
    "        \n",
    "    qc = QuantumCircuit(n)\n",
    "    for i in range(n):\n",
    "        qc.h(i)\n",
    "    \n",
    "    # num_iterations = math.floor((math.pi / 4) * math.sqrt(math.pow(2, n)))\n",
    "    \n",
    "    # for _ in range(num_iterations): \n",
    "    set_element_qiskit(element, n, qc)\n",
    "    qc.h(n - 1)  \n",
    "    \n",
    "    l = []\n",
    "    for i in range(n-1):\n",
    "        l.append(i)\n",
    "    qc.mcx(l, n-1) \n",
    "    qc.h(n - 1)\n",
    "    set_element_qiskit(element, n, qc)\n",
    "    for i in range(n):\n",
    "        qc.h(i)\n",
    "    for i in range(n):\n",
    "        qc.x(i)\n",
    "    qc.h(n -1)\n",
    "    l = []\n",
    "    for i in range(n-1):\n",
    "        l.append(i)\n",
    "    qc.mcx(l, n-1) \n",
    "    qc.h(n -1)\n",
    "    for i in range(n):\n",
    "        qc.x(i)\n",
    "    for i in range(n):\n",
    "        qc.h(i)\n",
    "    \n",
    "    qc.measure_all()\n",
    "    \n",
    "    return qc\n",
    "\n",
    "grover_qc = grover(4, 1)\n",
    "grover_qc.draw()"
   ],
   "metadata": {
    "collapsed": false,
    "ExecuteTime": {
     "end_time": "2025-01-21T19:37:03.155469100Z",
     "start_time": "2025-01-21T19:37:03.125407400Z"
    }
   },
   "id": "b51306bce82226e7"
  },
  {
   "cell_type": "code",
   "execution_count": 131,
   "outputs": [
    {
     "data": {
      "text/plain": "        ┌───┐┌───┐     ┌───┐┌───┐┌───┐          ┌───┐┌───┐      ░ ┌─┐      \n   q_0: ┤ H ├┤ X ├──■──┤ X ├┤ H ├┤ X ├───────■──┤ X ├┤ H ├──────░─┤M├──────\n        ├───┤├───┤  │  ├───┤├───┤├───┤       │  ├───┤├───┤      ░ └╥┘┌─┐   \n   q_1: ┤ H ├┤ X ├──■──┤ X ├┤ H ├┤ X ├───────■──┤ X ├┤ H ├──────░──╫─┤M├───\n        ├───┤├───┤┌─┴─┐├───┤├───┤├───┤┌───┐┌─┴─┐├───┤├───┤┌───┐ ░  ║ └╥┘┌─┐\n   q_2: ┤ H ├┤ H ├┤ X ├┤ H ├┤ H ├┤ X ├┤ H ├┤ X ├┤ H ├┤ X ├┤ H ├─░──╫──╫─┤M├\n        └───┘└───┘└───┘└───┘└───┘└───┘└───┘└───┘└───┘└───┘└───┘ ░  ║  ║ └╥┘\nmeas: 3/═══════════════════════════════════════════════════════════╩══╩══╩═\n                                                                   0  1  2 ",
      "text/html": "<pre style=\"word-wrap: normal;white-space: pre;background: #fff0;line-height: 1.1;font-family: &quot;Courier New&quot;,Courier,monospace\">        ┌───┐┌───┐     ┌───┐┌───┐┌───┐          ┌───┐┌───┐      ░ ┌─┐      \n   q_0: ┤ H ├┤ X ├──■──┤ X ├┤ H ├┤ X ├───────■──┤ X ├┤ H ├──────░─┤M├──────\n        ├───┤├───┤  │  ├───┤├───┤├───┤       │  ├───┤├───┤      ░ └╥┘┌─┐   \n   q_1: ┤ H ├┤ X ├──■──┤ X ├┤ H ├┤ X ├───────■──┤ X ├┤ H ├──────░──╫─┤M├───\n        ├───┤├───┤┌─┴─┐├───┤├───┤├───┤┌───┐┌─┴─┐├───┤├───┤┌───┐ ░  ║ └╥┘┌─┐\n   q_2: ┤ H ├┤ H ├┤ X ├┤ H ├┤ H ├┤ X ├┤ H ├┤ X ├┤ H ├┤ X ├┤ H ├─░──╫──╫─┤M├\n        └───┘└───┘└───┘└───┘└───┘└───┘└───┘└───┘└───┘└───┘└───┘ ░  ║  ║ └╥┘\nmeas: 3/═══════════════════════════════════════════════════════════╩══╩══╩═\n                                                                   0  1  2 </pre>"
     },
     "execution_count": 131,
     "metadata": {},
     "output_type": "execute_result"
    }
   ],
   "source": [
    "def grover_3_all_to_all(element: int):\n",
    "    qc = QuantumCircuit(3)\n",
    "    \n",
    "    qc.h(0)\n",
    "    qc.h(1)\n",
    "    qc.h(2)\n",
    "    \n",
    "    set_element_qiskit(element, 3, qc)\n",
    "    \n",
    "    qc.h(2)\n",
    "    \n",
    "    qc.ccx(0, 1, 2)\n",
    "    \n",
    "    qc.h(2)\n",
    "    \n",
    "    set_element_qiskit(element, 3, qc)\n",
    "    \n",
    "    qc.h(0)\n",
    "    qc.h(1)\n",
    "    qc.h(2)\n",
    "    \n",
    "    qc.x(0)\n",
    "    qc.x(1)\n",
    "    qc.x(2)\n",
    "    \n",
    "    qc.h(2)\n",
    "    \n",
    "    qc.ccx(0, 1, 2)\n",
    "    \n",
    "    qc.h(2)\n",
    "    \n",
    "    qc.x(0)\n",
    "    qc.x(1)\n",
    "    qc.x(2)\n",
    "    \n",
    "    qc.h(0)\n",
    "    qc.h(1)\n",
    "    qc.h(2)\n",
    "    \n",
    "    qc.measure_all()\n",
    "    \n",
    "    return qc\n",
    "\n",
    "grover_3_all_to_all_cq = grover_3_all_to_all(4)\n",
    "grover_3_all_to_all_cq.draw(scale=10)"
   ],
   "metadata": {
    "collapsed": false,
    "ExecuteTime": {
     "end_time": "2025-01-21T19:35:19.851309200Z",
     "start_time": "2025-01-21T19:35:19.813076100Z"
    }
   },
   "id": "33b24eafa77c5b25"
  },
  {
   "cell_type": "code",
   "execution_count": 132,
   "outputs": [
    {
     "data": {
      "text/plain": "        ┌───┐┌───┐              ┌───┐                             ┌───┐┌───┐»\n   q_0: ┤ H ├┤ X ├───────────■──┤ X ├────────────■─────────────X──┤ X ├┤ H ├»\n        ├───┤├───┤         ┌─┴─┐└─┬─┘          ┌─┴─┐           │  ├───┤├───┤»\n   q_1: ┤ H ├┤ X ├─■───────┤ X ├──■───■────────┤ X ├─■─────────X──┤ X ├┤ H ├»\n        ├───┤└───┘ │P(π/2) └───┘      │P(-π/2) └───┘ │P(π/2) ┌───┐├───┤└───┘»\n   q_2: ┤ H ├──────■──────────────────■──────────────■───────┤ H ├┤ X ├─────»\n        └───┘                                                └───┘└───┘     »\nmeas: 3/════════════════════════════════════════════════════════════════════»\n                                                                            »\n«        ┌───┐              ┌───┐                             ┌───┐┌───┐ ░ ┌─┐»\n«   q_0: ┤ X ├───────────■──┤ X ├────────────■─────────────X──┤ X ├┤ H ├─░─┤M├»\n«        ├───┤         ┌─┴─┐└─┬─┘          ┌─┴─┐           │  ├───┤├───┤ ░ └╥┘»\n«   q_1: ┤ X ├─■───────┤ X ├──■───■────────┤ X ├─■─────────X──┤ X ├┤ H ├─░──╫─»\n«        └───┘ │P(π/2) └───┘      │P(-π/2) └───┘ │P(π/2) ┌───┐├───┤└───┘ ░  ║ »\n«   q_2: ──────■──────────────────■──────────────■───────┤ X ├┤ H ├──────░──╫─»\n«                                                        └───┘└───┘      ░  ║ »\n«meas: 3/═══════════════════════════════════════════════════════════════════╩═»\n«                                                                           0 »\n«              \n«   q_0: ──────\n«        ┌─┐   \n«   q_1: ┤M├───\n«        └╥┘┌─┐\n«   q_2: ─╫─┤M├\n«         ║ └╥┘\n«meas: 3/═╩══╩═\n«         1  2 ",
      "text/html": "<pre style=\"word-wrap: normal;white-space: pre;background: #fff0;line-height: 1.1;font-family: &quot;Courier New&quot;,Courier,monospace\">        ┌───┐┌───┐              ┌───┐                             ┌───┐┌───┐»\n   q_0: ┤ H ├┤ X ├───────────■──┤ X ├────────────■─────────────X──┤ X ├┤ H ├»\n        ├───┤├───┤         ┌─┴─┐└─┬─┘          ┌─┴─┐           │  ├───┤├───┤»\n   q_1: ┤ H ├┤ X ├─■───────┤ X ├──■───■────────┤ X ├─■─────────X──┤ X ├┤ H ├»\n        ├───┤└───┘ │P(π/2) └───┘      │P(-π/2) └───┘ │P(π/2) ┌───┐├───┤└───┘»\n   q_2: ┤ H ├──────■──────────────────■──────────────■───────┤ H ├┤ X ├─────»\n        └───┘                                                └───┘└───┘     »\nmeas: 3/════════════════════════════════════════════════════════════════════»\n                                                                            »\n«        ┌───┐              ┌───┐                             ┌───┐┌───┐ ░ ┌─┐»\n«   q_0: ┤ X ├───────────■──┤ X ├────────────■─────────────X──┤ X ├┤ H ├─░─┤M├»\n«        ├───┤         ┌─┴─┐└─┬─┘          ┌─┴─┐           │  ├───┤├───┤ ░ └╥┘»\n«   q_1: ┤ X ├─■───────┤ X ├──■───■────────┤ X ├─■─────────X──┤ X ├┤ H ├─░──╫─»\n«        └───┘ │P(π/2) └───┘      │P(-π/2) └───┘ │P(π/2) ┌───┐├───┤└───┘ ░  ║ »\n«   q_2: ──────■──────────────────■──────────────■───────┤ X ├┤ H ├──────░──╫─»\n«                                                        └───┘└───┘      ░  ║ »\n«meas: 3/═══════════════════════════════════════════════════════════════════╩═»\n«                                                                           0 »\n«              \n«   q_0: ──────\n«        ┌─┐   \n«   q_1: ┤M├───\n«        └╥┘┌─┐\n«   q_2: ─╫─┤M├\n«         ║ └╥┘\n«meas: 3/═╩══╩═\n«         1  2 </pre>"
     },
     "execution_count": 132,
     "metadata": {},
     "output_type": "execute_result"
    }
   ],
   "source": [
    "def grover_3_linear(element: int):\n",
    "    qc = QuantumCircuit(3)\n",
    "    qc.h(0)\n",
    "    qc.h(1)\n",
    "    qc.h(2)\n",
    "    \n",
    "    qc.x(0)\n",
    "    qc.x(1)\n",
    "    \n",
    "    qc.cp(math.pi / 2, 1, 2)\n",
    "    qc.cx(0, 1)\n",
    "    qc.cx(1, 0)\n",
    "    qc.cp(- math.pi / 2, 1, 2)\n",
    "    qc.cx(0, 1)\n",
    "    qc.cp(math.pi / 2, 1, 2)\n",
    "    qc.swap(0, 1)\n",
    "    \n",
    "    qc.x(0)\n",
    "    qc.x(1)\n",
    "    \n",
    "    qc.h(0)\n",
    "    qc.h(1)\n",
    "    qc.h(2)\n",
    "    \n",
    "    qc.x(0)\n",
    "    qc.x(1)\n",
    "    qc.x(2)\n",
    "    \n",
    "    qc.cp(math.pi / 2, 1, 2)\n",
    "    qc.cx(0, 1)\n",
    "    qc.cx(1, 0)\n",
    "    qc.cp(- math.pi / 2, 1, 2)\n",
    "    qc.cx(0, 1)\n",
    "    qc.cp(math.pi / 2, 1, 2)\n",
    "    qc.swap(0, 1)\n",
    "    \n",
    "    qc.x(0)\n",
    "    qc.x(1)\n",
    "    qc.x(2)\n",
    "    \n",
    "    qc.h(0)\n",
    "    qc.h(1)\n",
    "    qc.h(2)\n",
    "    \n",
    "    qc.measure_all()\n",
    "\n",
    "    return qc\n",
    "grover_3_linear_cq = grover_3_linear(4)\n",
    "grover_3_linear_cq.draw()"
   ],
   "metadata": {
    "collapsed": false,
    "ExecuteTime": {
     "end_time": "2025-01-21T19:35:22.828071200Z",
     "start_time": "2025-01-21T19:35:22.802441700Z"
    }
   },
   "id": "d8c8b1505d92c559"
  },
  {
   "cell_type": "code",
   "execution_count": 137,
   "outputs": [],
   "source": [
    "from qiskit_ibm_runtime import SamplerV2\n",
    "from qiskit import transpile\n",
    "\n",
    "def ibm_hardware(n: int, circuit: QuantumCircuit):\n",
    "    service = QiskitRuntimeService()\n",
    "    backend = service.least_busy(operational=True, simulator=False)\n",
    "    transpiled_circuit = transpile(circuit, backend)\n",
    "    \n",
    "    results = []\n",
    "    \n",
    "    for i in range(n):\n",
    "        sampler = SamplerV2(backend)\n",
    "        job = sampler.run([transpiled_circuit])\n",
    "        results.append(job.result())\n",
    "    return results"
   ],
   "metadata": {
    "collapsed": false,
    "ExecuteTime": {
     "end_time": "2025-01-21T19:37:15.293279300Z",
     "start_time": "2025-01-21T19:37:15.277759800Z"
    }
   },
   "id": "f7c3fb5ad4028538"
  },
  {
   "cell_type": "code",
   "execution_count": 138,
   "outputs": [],
   "source": [
    "# results = ibm_hardware(10, qc)\n",
    "results = ibm_hardware(10, grover_qc)\n",
    "# results = ibm_hardware(10, grover_3_all_to_all_cq)\n",
    "# results = ibm_hardware(10, grover_3_linear_cq)"
   ],
   "metadata": {
    "collapsed": false,
    "ExecuteTime": {
     "end_time": "2025-01-21T19:40:43.410176Z",
     "start_time": "2025-01-21T19:37:16.571579600Z"
    }
   },
   "id": "78aca557134220cd"
  },
  {
   "cell_type": "code",
   "execution_count": 139,
   "outputs": [
    {
     "data": {
      "text/plain": "<Figure size 640x480 with 1 Axes>",
      "image/png": "[encoded data removed]"
     },
     "execution_count": 139,
     "metadata": {},
     "output_type": "execute_result"
    }
   ],
   "source": [
    "from qiskit.visualization import plot_histogram\n",
    "from collections import Counter\n",
    "\n",
    "counts_list = []\n",
    "\n",
    "for i in results:\n",
    "    res = i[0]\n",
    "    data = res.data\n",
    "    counts = res.data.meas.get_counts()\n",
    "    counts_list.append(counts)\n",
    "\n",
    "aggregate_counts = Counter()\n",
    "for c in counts_list:\n",
    "    aggregate_counts.update(c)\n",
    "    \n",
    "aggregated_dict = dict(aggregate_counts)\n",
    "\n",
    "plot_histogram(aggregated_dict)"
   ],
   "metadata": {
    "collapsed": false,
    "ExecuteTime": {
     "end_time": "2025-01-21T19:40:43.771179Z",
     "start_time": "2025-01-21T19:40:43.389727800Z"
    }
   },
   "id": "4a75e4bd4448552a"
  },
  {
   "cell_type": "code",
   "execution_count": null,
   "outputs": [],
   "source": [],
   "metadata": {
    "collapsed": false
   },
   "id": "fe1e0b27333c68d2"
  }
 ],
 "metadata": {
  "kernelspec": {
   "display_name": "Python 3",
   "language": "python",
   "name": "python3"
  },
  "language_info": {
   "codemirror_mode": {
    "name": "ipython",
    "version": 2
   },
   "file_extension": ".py",
   "mimetype": "text/x-python",
   "name": "python",
   "nbconvert_exporter": "python",
   "pygments_lexer": "ipython2",
   "version": "2.7.6"
  }
 },
 "nbformat": 4,
 "nbformat_minor": 5
}
